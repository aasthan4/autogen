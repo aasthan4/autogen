{
 "cells": [
  {
   "cell_type": "code",
   "execution_count": 1,
   "metadata": {},
   "outputs": [
    {
     "ename": "SyntaxError",
     "evalue": "Missing parentheses in call to 'print'. Did you mean print('case of ')? (<ipython-input-1-e98fcaae0ddd>, line 12)",
     "output_type": "error",
     "traceback": [
      "\u001b[0;36m  File \u001b[0;32m\"<ipython-input-1-e98fcaae0ddd>\"\u001b[0;36m, line \u001b[0;32m12\u001b[0m\n\u001b[0;31m    print 'case of '\u001b[0m\n\u001b[0m                   ^\u001b[0m\n\u001b[0;31mSyntaxError\u001b[0m\u001b[0;31m:\u001b[0m Missing parentheses in call to 'print'. Did you mean print('case of ')?\n"
     ]
    }
   ],
   "source": [
    "from tests import ccsd_amplitude as ccsd\n",
    "from main_tools.commutator import comm\n",
    "from main_tools.driv3 import driver\n",
    "from main_tools.product import prod\n",
    "from library import print_terms\n",
    "from library import full_con\n",
    "from library import pick\n",
    "from library import convert_pqr\n",
    "from library import compare_overall2 as ce\n",
    "from library import compare_test as ctest\n",
    "from library import h_third as ht\n",
    "print 'case of '\n",
    "list_terms=[]\n",
    "list_terms1=[]"
   ]
  },
  {
   "cell_type": "code",
   "execution_count": null,
   "metadata": {},
   "outputs": [],
   "source": []
  }
 ],
 "metadata": {
  "kernelspec": {
   "display_name": "Python 3",
   "language": "python",
   "name": "python3"
  },
  "language_info": {
   "codemirror_mode": {
    "name": "ipython",
    "version": 3
   },
   "file_extension": ".py",
   "mimetype": "text/x-python",
   "name": "python",
   "nbconvert_exporter": "python",
   "pygments_lexer": "ipython3",
   "version": "3.7.6"
  }
 },
 "nbformat": 4,
 "nbformat_minor": 4
}
